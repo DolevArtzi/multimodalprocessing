{
 "cells": [
  {
   "cell_type": "code",
   "execution_count": null,
   "metadata": {},
   "outputs": [],
   "source": [
    "!pip3 install opencv-python --q"
   ]
  },
  {
   "cell_type": "markdown",
   "metadata": {},
   "source": [
    "### Progress\n",
    "- convert an `mp4/png` to a 4d `numpy` array\n",
    "- flatten that array into a `(-1,#frames)` 2d `numpy` matrix (video)\n",
    "- convert that `matrix` back to `4d`\n",
    "- write a `4d` numpy array representing an `mp4/png` to storage back in `mp4/png` format\n",
    "- randomly corrupt the media (image or video), see how that looks\n",
    "- restore media (image or video) by averaging neighboring RGB values (with delta of neighbors to look at for images)\n",
    "### Todo\n",
    "- countsketch transform, reshape as best as possible, see how that looks\n",
    "- other corruption, sparsification, restoration methods\n",
    "- multi-threaded corruption"
   ]
  },
  {
   "cell_type": "code",
   "execution_count": null,
   "metadata": {},
   "outputs": [],
   "source": [
    "from movie_comp import MovieComp"
   ]
  },
  {
   "cell_type": "code",
   "execution_count": null,
   "metadata": {},
   "outputs": [],
   "source": [
    "MC = MovieComp()\n",
    "movie_name = 'ex_gparents.mp4'\n",
    "corrupt, corrupt_list = MC.corrupt_and_write(movie_name,3)\n",
    "fixed = MC.neighbor_recovery(corrupt,corrupt_list)\n",
    "MC.np_to_mp4(fixed,'fixed_v1_3.mp4')"
   ]
  },
  {
   "cell_type": "code",
   "execution_count": null,
   "metadata": {},
   "outputs": [],
   "source": [
    "MC = MovieComp()\n",
    "img_np = MC.png_to_np('pulp_fiction.png')\n",
    "img_np.shape"
   ]
  },
  {
   "cell_type": "code",
   "execution_count": null,
   "metadata": {},
   "outputs": [],
   "source": [
    "from movie_comp import MovieComp\n",
    "MC = MovieComp()\n",
    "movie_name = 'ex_vids/ex_gparents.mp4'\n",
    "np_movie = MC.mp4_to_np(movie_name)\n",
    "mtx = MC.og_to_mtx(np_movie)\n",
    "corrupted,_ = MC.random_corrupt(np_movie,20)\n",
    "corrupted_mtx = MC.og_to_mtx(corrupted)\n",
    "MC.color_histogram(mtx,title='original video histogram')\n",
    "MC.color_histogram(corrupted_mtx,title='corrupted video histogram')"
   ]
  },
  {
   "cell_type": "code",
   "execution_count": null,
   "metadata": {},
   "outputs": [],
   "source": [
    "MC.np_to_mp4(corrupted,'recovered_gparents_20.mp4')"
   ]
  },
  {
   "cell_type": "code",
   "execution_count": null,
   "metadata": {},
   "outputs": [],
   "source": [
    "from movie_comp import MovieComp\n",
    "MC = MovieComp() \n",
    "np_img = MC.png_to_np('pulp_fiction.png')\n",
    "print(np_img.shape)\n",
    "corrupted, corrupt_list = MC.random_corrupt_img(np_img,20)\n",
    "MC.np_to_png(corrupted,'corrupted_gparents_20.png')"
   ]
  },
  {
   "cell_type": "code",
   "execution_count": null,
   "metadata": {},
   "outputs": [],
   "source": [
    "from movie_comp import MovieComp\n",
    "MC = MovieComp()\n",
    "corrupted, corrupt_list = MC.corrupt_and_write('pulp_fiction_example/pulp_fiction.png',25,out_name='corrupted_pulp_fiction_25.png',is_vid=False)\n",
    "recovered_img = MC.neighbor_recovery_img(corrupted,corrupt_list,delta=10)\n",
    "MC.np_to_png(recovered_img,'uncorrupted_pulp_fiction_25_d_10.png')"
   ]
  },
  {
   "cell_type": "code",
   "execution_count": null,
   "metadata": {},
   "outputs": [],
   "source": [
    "from movie_comp import MovieComp\n",
    "MC = MovieComp()\n",
    "MC.compare_to_corrupted('pulp_fiction_example/pulp_fiction.png',percent_corrupted=20)"
   ]
  },
  {
   "cell_type": "code",
   "execution_count": null,
   "metadata": {},
   "outputs": [],
   "source": [
    "from movie_comp import MovieComp\n",
    "MC = MovieComp()\n",
    "MC.plot_loss('pulp_fiction_example/pulp_fiction.png')"
   ]
  },
  {
   "cell_type": "code",
   "execution_count": null,
   "metadata": {},
   "outputs": [],
   "source": [
    "MC.plot_loss('pulp_fiction_example/pulp_fiction.png',loss='mae')"
   ]
  },
  {
   "cell_type": "code",
   "execution_count": null,
   "metadata": {},
   "outputs": [],
   "source": [
    "# movie_name = 'ex_video_short.mp4'\n",
    "# np_movie = mp4_to_np(movie_name)\n",
    "# og_shape = np_movie.shape\n",
    "# mtx = og_to_mtx(np_movie)\n",
    "# mtx_3 = trim_to_3s(mtx)\n",
    "# og_recovered = mtx_to_og(mtx,og_shape)"
   ]
  },
  {
   "cell_type": "code",
   "execution_count": null,
   "metadata": {},
   "outputs": [],
   "source": [
    "import numpy as np\n",
    "from scipy.signal import convolve2d\n",
    "\n",
    "def apply_kernel(image, kernel):\n",
    "    result = np.zeros_like(image)\n",
    "    for i in range(image.shape[-1]):\n",
    "        result[:, :, i] = convolve2d(image[:, i], kernel, mode='same', boundary='wrap')\n",
    "    return result\n",
    "\n",
    "image = np.array([[0,0,0,0,0],[0,1,2,3,0],[0,4,5,6,0],[0,7,8,9,0],[0,0,0,0,0]])\n",
    "print(image.shape)\n",
    "kernel = np.array([[0,-1,0],[-1,5,-1],[0,-1,0]])\n",
    "print(kernel.shape)\n",
    "result = convolve2d(image, kernel, mode='valid')\n",
    "result,image,kernel"
   ]
  },
  {
   "cell_type": "code",
   "execution_count": null,
   "metadata": {},
   "outputs": [],
   "source": []
  },
  {
   "cell_type": "code",
   "execution_count": null,
   "metadata": {},
   "outputs": [],
   "source": [
    "padded = np.array([[0,0,0,0,0],[0,1,2,3,0],[0,4,5,6,0],[0,7,8,9,0],[0,0,0,0,0]])\n",
    "image =  np.array([[1,2,3],[4,5,6],[7,8,9]])\n",
    "def add_padding(array, pad_width):\n",
    "    padded_array = np.pad(array, pad_width, mode='constant', constant_values=0)\n",
    "    return padded_array\n",
    "res = add_padding(image,1)\n",
    "convolve2d(res,kernel,mode='valid')"
   ]
  },
  {
   "cell_type": "code",
   "execution_count": 2,
   "metadata": {},
   "outputs": [
    {
     "name": "stdout",
     "output_type": "stream",
     "text": [
      "initializing concurrent executor...\n",
      "SETTING DIMS [728 492   3]\n",
      "SETTING DIMS [728 492   3]\n",
      "SETTING DIMS [728 492   3]\n",
      "converting 3d to 2d...\n",
      "Original Shape: (728, 492, 3)\n",
      "New Shape: (1476, 728)\n",
      "converting 2d to 4d...\n",
      "Modified Shape: (1476, 728)\n",
      "New Shape: (728, 492, 3)\n",
      "SETTING DIMS [728 492   3]\n",
      "SETTING DIMS [728 492   3]\n",
      "converting 3d to 2d...\n",
      "Original Shape: (728, 492, 3)\n",
      "New Shape: (1476, 728)\n",
      "(728, 492, 3)\n",
      "converting 3d numpy array to PNG...\n",
      "PNG image saved successfully.\n",
      "converting 3d numpy array to PNG...\n",
      "PNG image saved successfully.\n"
     ]
    }
   ],
   "source": [
    "from movie_comp import MovieComp\n",
    "MC = MovieComp()\n",
    "img_name = 'grayscale_dog.png'\n",
    "np_img = MC.png_to_np(img_name)\n",
    "mtx = MC.name_to_mtx_img(img_name)\n",
    "og = MC.mtx_to_og(mtx,np_img.shape)\n",
    "# MC.np_to_png(og,'grayscale.png')\n",
    "sharp_img = MC.sharpen_img(img_name)\n",
    "print(sharp_img.shape)\n",
    "MC.np_to_png(sharp_img,'sharpened_blurry_dog_2.png')\n",
    "MC.np_to_png(sharp_img + og,'sharpened_blurry_dog_add_og.png')"
   ]
  }
 ],
 "metadata": {
  "kernelspec": {
   "display_name": "Python 3.11.6 64-bit",
   "language": "python",
   "name": "python3"
  },
  "language_info": {
   "codemirror_mode": {
    "name": "ipython",
    "version": 3
   },
   "file_extension": ".py",
   "mimetype": "text/x-python",
   "name": "python",
   "nbconvert_exporter": "python",
   "pygments_lexer": "ipython3",
   "version": "3.11.6"
  },
  "orig_nbformat": 4,
  "vscode": {
   "interpreter": {
    "hash": "b0fa6594d8f4cbf19f97940f81e996739fb7646882a419484c72d19e05852a7e"
   }
  }
 },
 "nbformat": 4,
 "nbformat_minor": 2
}
